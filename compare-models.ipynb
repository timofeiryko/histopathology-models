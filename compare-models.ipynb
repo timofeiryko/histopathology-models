{
 "cells": [
  {
   "cell_type": "code",
   "execution_count": 38,
   "metadata": {},
   "outputs": [],
   "source": [
    "import numpy as np\n",
    "import pandas as pd\n",
    "import matplotlib.pyplot as plt\n",
    "import seaborn as sns\n",
    "\n",
    "import os"
   ]
  },
  {
   "cell_type": "code",
   "execution_count": 39,
   "metadata": {},
   "outputs": [],
   "source": [
    "model_names = ('ResNet50', 'ResNet50-dropout', 'SimpleCNN')\n",
    "model_paths = (os.path.join(name, f'{name}-log.csv') for name in model_names)"
   ]
  },
  {
   "cell_type": "code",
   "execution_count": 40,
   "metadata": {},
   "outputs": [],
   "source": [
    "def collect_logs(model_names: tuple, model_paths: tuple, df: pd.DataFrame = None, sep:str = ';') -> pd.DataFrame:\n",
    "    for name, path in zip(model_names, model_paths):\n",
    "\n",
    "            if df is None:\n",
    "                df = pd.read_csv(path, sep=sep)\n",
    "                df['model'] = name\n",
    "                df.set_index(['model', 'epoch'], inplace=True)\n",
    "                continue\n",
    "                \n",
    "            log = pd.read_csv(path, sep=sep)\n",
    "            log['model'] = name\n",
    "            log.set_index(['model', 'epoch'], inplace=True)\n",
    "\n",
    "            df = pd.concat([df, log])\n",
    "\n",
    "    return df"
   ]
  },
  {
   "cell_type": "code",
   "execution_count": 41,
   "metadata": {},
   "outputs": [],
   "source": [
    "df = collect_logs(model_names, model_paths)"
   ]
  },
  {
   "cell_type": "code",
   "execution_count": 43,
   "metadata": {},
   "outputs": [
    {
     "data": {
      "text/html": [
       "<div>\n",
       "<style scoped>\n",
       "    .dataframe tbody tr th:only-of-type {\n",
       "        vertical-align: middle;\n",
       "    }\n",
       "\n",
       "    .dataframe tbody tr th {\n",
       "        vertical-align: top;\n",
       "    }\n",
       "\n",
       "    .dataframe thead th {\n",
       "        text-align: right;\n",
       "    }\n",
       "</style>\n",
       "<table border=\"1\" class=\"dataframe\">\n",
       "  <thead>\n",
       "    <tr style=\"text-align: right;\">\n",
       "      <th></th>\n",
       "      <th></th>\n",
       "      <th>accuracy</th>\n",
       "      <th>loss</th>\n",
       "      <th>val_accuracy</th>\n",
       "      <th>val_loss</th>\n",
       "    </tr>\n",
       "    <tr>\n",
       "      <th>model</th>\n",
       "      <th>epoch</th>\n",
       "      <th></th>\n",
       "      <th></th>\n",
       "      <th></th>\n",
       "      <th></th>\n",
       "    </tr>\n",
       "  </thead>\n",
       "  <tbody>\n",
       "    <tr>\n",
       "      <th rowspan=\"5\" valign=\"top\">ResNet50</th>\n",
       "      <th>0</th>\n",
       "      <td>0.921750</td>\n",
       "      <td>0.192282</td>\n",
       "      <td>0.971667</td>\n",
       "      <td>0.082222</td>\n",
       "    </tr>\n",
       "    <tr>\n",
       "      <th>1</th>\n",
       "      <td>0.965750</td>\n",
       "      <td>0.087694</td>\n",
       "      <td>0.978333</td>\n",
       "      <td>0.053798</td>\n",
       "    </tr>\n",
       "    <tr>\n",
       "      <th>2</th>\n",
       "      <td>0.975167</td>\n",
       "      <td>0.067033</td>\n",
       "      <td>0.985333</td>\n",
       "      <td>0.043157</td>\n",
       "    </tr>\n",
       "    <tr>\n",
       "      <th>3</th>\n",
       "      <td>0.985417</td>\n",
       "      <td>0.039568</td>\n",
       "      <td>0.982333</td>\n",
       "      <td>0.043396</td>\n",
       "    </tr>\n",
       "    <tr>\n",
       "      <th>4</th>\n",
       "      <td>0.989250</td>\n",
       "      <td>0.026989</td>\n",
       "      <td>0.983000</td>\n",
       "      <td>0.038033</td>\n",
       "    </tr>\n",
       "  </tbody>\n",
       "</table>\n",
       "</div>"
      ],
      "text/plain": [
       "                accuracy      loss  val_accuracy  val_loss\n",
       "model    epoch                                            \n",
       "ResNet50 0      0.921750  0.192282      0.971667  0.082222\n",
       "         1      0.965750  0.087694      0.978333  0.053798\n",
       "         2      0.975167  0.067033      0.985333  0.043157\n",
       "         3      0.985417  0.039568      0.982333  0.043396\n",
       "         4      0.989250  0.026989      0.983000  0.038033"
      ]
     },
     "execution_count": 43,
     "metadata": {},
     "output_type": "execute_result"
    }
   ],
   "source": [
    "df.head()"
   ]
  },
  {
   "cell_type": "code",
   "execution_count": 46,
   "metadata": {},
   "outputs": [
    {
     "data": {
      "text/plain": [
       "(150, 4)"
      ]
     },
     "execution_count": 46,
     "metadata": {},
     "output_type": "execute_result"
    }
   ],
   "source": [
    "df.shape"
   ]
  }
 ],
 "metadata": {
  "interpreter": {
   "hash": "57818da3ee1fd01d36d722dc5d70d8ee0174abb1fbd688f676d98834109492dc"
  },
  "kernelspec": {
   "display_name": "Python 3.8.8 ('base')",
   "language": "python",
   "name": "python3"
  },
  "language_info": {
   "codemirror_mode": {
    "name": "ipython",
    "version": 3
   },
   "file_extension": ".py",
   "mimetype": "text/x-python",
   "name": "python",
   "nbconvert_exporter": "python",
   "pygments_lexer": "ipython3",
   "version": "3.8.8"
  },
  "orig_nbformat": 4
 },
 "nbformat": 4,
 "nbformat_minor": 2
}
